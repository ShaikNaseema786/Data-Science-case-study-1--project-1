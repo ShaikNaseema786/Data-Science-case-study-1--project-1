{
  "nbformat": 4,
  "nbformat_minor": 0,
  "metadata": {
    "colab": {
      "provenance": [],
      "authorship_tag": "ABX9TyMaxlZN8ZCWeTYec7GJtdKJ",
      "include_colab_link": true
    },
    "kernelspec": {
      "name": "python3",
      "display_name": "Python 3"
    },
    "language_info": {
      "name": "python"
    }
  },
  "cells": [
    {
      "cell_type": "markdown",
      "metadata": {
        "id": "view-in-github",
        "colab_type": "text"
      },
      "source": [
        "<a href=\"https://colab.research.google.com/github/ShaikNaseema786/Data-Science-case-study-1--project-1/blob/main/case_study_1(patient_csv).ipynb\" target=\"_parent\"><img src=\"https://colab.research.google.com/assets/colab-badge.svg\" alt=\"Open In Colab\"/></a>"
      ]
    },
    {
      "cell_type": "code",
      "execution_count": null,
      "metadata": {
        "colab": {
          "base_uri": "https://localhost:8080/"
        },
        "id": "_H_Xcjvatjiv",
        "outputId": "e1180035-17f1-4f94-e6b5-1da10a15bcd3"
      },
      "outputs": [
        {
          "output_type": "stream",
          "name": "stdout",
          "text": [
            "Mounted at /content/drive\n"
          ]
        }
      ],
      "source": [
        "#case study -state Electricity\n",
        "from google.colab import drive\n",
        "drive.mount('/content/drive')"
      ]
    },
    {
      "cell_type": "code",
      "source": [
        "import pandas as pd\n",
        "import numpy as np\n",
        "import matplotlib.pyplot as plt\n",
        "from pandas import read_csv\n",
        "path=\"/content/drive/MyDrive/energy.csv\"\n",
        "electricity=pd.read_csv(path)\n",
        "print(electricity)"
      ],
      "metadata": {
        "colab": {
          "base_uri": "https://localhost:8080/"
        },
        "id": "c2L7sEcpXt0d",
        "outputId": "31f0e452-f122-4dce-f6cc-f14240383e53"
      },
      "execution_count": null,
      "outputs": [
        {
          "output_type": "stream",
          "name": "stdout",
          "text": [
            "          Date        State  Consumption\n",
            "0   01-01-2024    Tamilnadu       347.25\n",
            "1   02-01-2024      Manipur       605.12\n",
            "2   03-01-2024    Telengana       444.63\n",
            "3   04-01-2024  Pondicherry       974.54\n",
            "4   05-01-2024    Tamilnadu       864.02\n",
            "..         ...          ...          ...\n",
            "95  05-04-2024       Kerala       587.30\n",
            "96  06-04-2024           UP       726.21\n",
            "97  07-04-2024       Andhra       305.70\n",
            "98  08-04-2024       Sikkim       257.46\n",
            "99  09-04-2024  Pondicherry       983.95\n",
            "\n",
            "[100 rows x 3 columns]\n"
          ]
        }
      ]
    },
    {
      "cell_type": "code",
      "source": [
        "print(electricity.shape)"
      ],
      "metadata": {
        "colab": {
          "base_uri": "https://localhost:8080/"
        },
        "id": "4kPRyIF3Yk3u",
        "outputId": "94c0f917-7c2a-44fb-adcd-210aac87ff2a"
      },
      "execution_count": null,
      "outputs": [
        {
          "output_type": "stream",
          "name": "stdout",
          "text": [
            "(100, 3)\n"
          ]
        }
      ]
    },
    {
      "cell_type": "code",
      "source": [
        "print(electricity.head(5))"
      ],
      "metadata": {
        "colab": {
          "base_uri": "https://localhost:8080/"
        },
        "id": "HVSlgG_AYyDh",
        "outputId": "7debf3ab-558a-46a0-dd8c-f216a048fd88"
      },
      "execution_count": null,
      "outputs": [
        {
          "output_type": "stream",
          "name": "stdout",
          "text": [
            "         Date        State  Consumption\n",
            "0  01-01-2024    Tamilnadu       347.25\n",
            "1  02-01-2024      Manipur       605.12\n",
            "2  03-01-2024    Telengana       444.63\n",
            "3  04-01-2024  Pondicherry       974.54\n",
            "4  05-01-2024    Tamilnadu       864.02\n"
          ]
        }
      ]
    },
    {
      "cell_type": "code",
      "source": [
        "print(electricity.tail(4))"
      ],
      "metadata": {
        "colab": {
          "base_uri": "https://localhost:8080/"
        },
        "id": "Rr04bSHPY53q",
        "outputId": "bfa11c30-423d-415f-f673-125476d8cef2"
      },
      "execution_count": null,
      "outputs": [
        {
          "output_type": "stream",
          "name": "stdout",
          "text": [
            "          Date        State  Consumption\n",
            "96  06-04-2024           UP       726.21\n",
            "97  07-04-2024       Andhra       305.70\n",
            "98  08-04-2024       Sikkim       257.46\n",
            "99  09-04-2024  Pondicherry       983.95\n"
          ]
        }
      ]
    },
    {
      "cell_type": "code",
      "source": [
        "print(electricity.info())"
      ],
      "metadata": {
        "colab": {
          "base_uri": "https://localhost:8080/"
        },
        "id": "jOE5oWhHY993",
        "outputId": "b082e770-7719-43ee-921b-a9eeae381633"
      },
      "execution_count": null,
      "outputs": [
        {
          "output_type": "stream",
          "name": "stdout",
          "text": [
            "<class 'pandas.core.frame.DataFrame'>\n",
            "RangeIndex: 100 entries, 0 to 99\n",
            "Data columns (total 3 columns):\n",
            " #   Column       Non-Null Count  Dtype  \n",
            "---  ------       --------------  -----  \n",
            " 0   Date         100 non-null    object \n",
            " 1   State        100 non-null    object \n",
            " 2   Consumption  100 non-null    float64\n",
            "dtypes: float64(1), object(2)\n",
            "memory usage: 2.5+ KB\n",
            "None\n"
          ]
        }
      ]
    },
    {
      "cell_type": "code",
      "source": [
        "print(electricity.describe())"
      ],
      "metadata": {
        "colab": {
          "base_uri": "https://localhost:8080/"
        },
        "id": "4AsgdYpHZCsZ",
        "outputId": "610f3d86-9a2a-42f9-c12d-a6f8bdf7bf07"
      },
      "execution_count": null,
      "outputs": [
        {
          "output_type": "stream",
          "name": "stdout",
          "text": [
            "       Consumption\n",
            "count   100.000000\n",
            "mean    534.090400\n",
            "std     245.341678\n",
            "min     100.470000\n",
            "25%     321.570000\n",
            "50%     517.075000\n",
            "75%     726.215000\n",
            "max     997.970000\n"
          ]
        }
      ]
    },
    {
      "cell_type": "code",
      "source": [
        "print(\"column data\")\n",
        "print(electricity.columns)"
      ],
      "metadata": {
        "colab": {
          "base_uri": "https://localhost:8080/"
        },
        "id": "uZufQIzNZMbq",
        "outputId": "e9c2bbbe-3a9b-4b22-b6cc-3e911a35d5b1"
      },
      "execution_count": null,
      "outputs": [
        {
          "output_type": "stream",
          "name": "stdout",
          "text": [
            "column data\n",
            "Index(['Date', 'State', 'Consumption'], dtype='object')\n"
          ]
        }
      ]
    },
    {
      "cell_type": "code",
      "source": [
        "\n",
        "print(electricity[electricity['State'].str.startswith('M')])\n",
        "print(electricity[electricity['State'].str.endswith('a')])"
      ],
      "metadata": {
        "colab": {
          "base_uri": "https://localhost:8080/"
        },
        "id": "V6V-2ERYZXrj",
        "outputId": "b29083a8-f994-404c-bb4d-253302fa282d"
      },
      "execution_count": null,
      "outputs": [
        {
          "output_type": "stream",
          "name": "stdout",
          "text": [
            "          Date    State  Consumption\n",
            "1   02-01-2024  Manipur       605.12\n",
            "18  19-01-2024  Mizoram       643.98\n",
            "21  22-01-2024  Manipur       948.57\n",
            "22  23-01-2024  Manipur       638.98\n",
            "37  07-02-2024  Manipur       682.92\n",
            "41  11-02-2024  Manipur       248.19\n",
            "44  14-02-2024  Mizoram       723.19\n",
            "60  01-03-2024  Manipur       469.93\n",
            "67  08-03-2024  Manipur       597.60\n",
            "70  11-03-2024  Manipur       432.69\n",
            "80  21-03-2024  Mizoram       726.23\n",
            "          Date      State  Consumption\n",
            "2   03-01-2024  Telengana       444.63\n",
            "5   06-01-2024    Tripura       749.56\n",
            "6   07-01-2024  Telengana       312.39\n",
            "7   08-01-2024  Telengana       330.46\n",
            "9   10-01-2024    Tripura       739.60\n",
            "10  11-01-2024     Andhra       199.80\n",
            "11  12-01-2024  Karnataka       495.40\n",
            "14  15-01-2024  Karnataka       527.83\n",
            "19  20-01-2024     Odisha       585.86\n",
            "20  21-01-2024     Kerala       282.76\n",
            "23  24-01-2024    Tripura       725.31\n",
            "25  26-01-2024     Andhra       661.92\n",
            "27  28-01-2024    Tripura       194.94\n",
            "36  06-02-2024  Karnataka       344.92\n",
            "40  10-02-2024    Tripura       374.30\n",
            "42  12-02-2024     Andhra       580.68\n",
            "45  15-02-2024  Telengana       342.47\n",
            "47  17-02-2024  Telengana       251.46\n",
            "49  19-02-2024  Karnataka       602.29\n",
            "51  21-02-2024     Odisha       158.40\n",
            "55  25-02-2024  Karnataka       741.04\n",
            "56  26-02-2024     Odisha       233.28\n",
            "59  29-02-2024     Kerala       978.95\n",
            "64  05-03-2024     Kerala       712.63\n",
            "78  19-03-2024  Telengana       235.65\n",
            "79  20-03-2024    Tripura       557.38\n",
            "82  23-03-2024     Andhra       393.36\n",
            "83  24-03-2024     Andhra       298.22\n",
            "86  27-03-2024     Odisha       413.80\n",
            "93  03-04-2024  Karnataka       761.69\n",
            "95  05-04-2024     Kerala       587.30\n",
            "97  07-04-2024     Andhra       305.70\n"
          ]
        }
      ]
    },
    {
      "cell_type": "code",
      "source": [
        "rcb=electricity[electricity['State']=='Andhra']\n",
        "rcb1=electricity[electricity['State']=='Manipur']\n",
        "print(len(rcb))\n",
        "print(len(rcb1))"
      ],
      "metadata": {
        "colab": {
          "base_uri": "https://localhost:8080/"
        },
        "id": "E9JjVpnoZllm",
        "outputId": "dffc4993-8f51-485b-81da-b36a8159a762"
      },
      "execution_count": null,
      "outputs": [
        {
          "output_type": "stream",
          "name": "stdout",
          "text": [
            "6\n",
            "8\n"
          ]
        }
      ]
    },
    {
      "cell_type": "code",
      "source": [
        "print(electricity.sort_values(by='State'))"
      ],
      "metadata": {
        "colab": {
          "base_uri": "https://localhost:8080/"
        },
        "id": "KBuSkc08ZyNT",
        "outputId": "f9785889-9b84-45c3-80c6-b6c31d08cfde"
      },
      "execution_count": null,
      "outputs": [
        {
          "output_type": "stream",
          "name": "stdout",
          "text": [
            "          Date        State  Consumption\n",
            "97  07-04-2024       Andhra       305.70\n",
            "42  12-02-2024       Andhra       580.68\n",
            "10  11-01-2024       Andhra       199.80\n",
            "25  26-01-2024       Andhra       661.92\n",
            "83  24-03-2024       Andhra       298.22\n",
            "..         ...          ...          ...\n",
            "85  26-03-2024           UP       828.55\n",
            "26  27-01-2024           UP       366.07\n",
            "96  06-04-2024           UP       726.21\n",
            "13  14-01-2024  Uttarakhand       906.19\n",
            "50  20-02-2024  Uttarakhand       463.45\n",
            "\n",
            "[100 rows x 3 columns]\n"
          ]
        }
      ]
    },
    {
      "cell_type": "code",
      "source": [
        "print(np.max(electricity['Consumption']))\n",
        "print(np.min(electricity['Consumption']))\n",
        "print(np.mean(electricity['Consumption']))\n",
        "\n"
      ],
      "metadata": {
        "colab": {
          "base_uri": "https://localhost:8080/"
        },
        "id": "PJD6LRtsaASG",
        "outputId": "ea41171f-b138-4117-a918-af43fa44be05"
      },
      "execution_count": null,
      "outputs": [
        {
          "output_type": "stream",
          "name": "stdout",
          "text": [
            "997.97\n",
            "100.47\n",
            "534.0903999999999\n"
          ]
        }
      ]
    },
    {
      "cell_type": "code",
      "source": [
        "print(electricity[electricity['State']=='Andhra']['Consumption'].max())\n",
        "print(electricity[electricity['State']=='Andhra']['Consumption'].min())\n",
        "\n"
      ],
      "metadata": {
        "colab": {
          "base_uri": "https://localhost:8080/"
        },
        "id": "NlnZbH33aGS5",
        "outputId": "5f0369ff-f5fb-4963-e439-616f94706eeb"
      },
      "execution_count": null,
      "outputs": [
        {
          "output_type": "stream",
          "name": "stdout",
          "text": [
            "661.92\n",
            "199.8\n"
          ]
        }
      ]
    },
    {
      "cell_type": "code",
      "source": [
        "#state_data=electricity[electricity['State]=='Andhara]\n",
        "state1_data=electricity[electricity['State']=='Andhra']\n",
        "print(\"Andhra Date\")\n",
        "print(state1_data)"
      ],
      "metadata": {
        "colab": {
          "base_uri": "https://localhost:8080/"
        },
        "id": "SNMV-i40aNpH",
        "outputId": "315b21d0-75e1-4993-9820-2000bd6531b8"
      },
      "execution_count": null,
      "outputs": [
        {
          "output_type": "stream",
          "name": "stdout",
          "text": [
            "Andhra Date\n",
            "          Date   State  Consumption\n",
            "10  11-01-2024  Andhra       199.80\n",
            "25  26-01-2024  Andhra       661.92\n",
            "42  12-02-2024  Andhra       580.68\n",
            "82  23-03-2024  Andhra       393.36\n",
            "83  24-03-2024  Andhra       298.22\n",
            "97  07-04-2024  Andhra       305.70\n"
          ]
        }
      ]
    },
    {
      "cell_type": "code",
      "source": [
        "state2_data = electricity[electricity['State']=='Karnataka']\n",
        "state4_data=electricity[electricity['State']=='Telengana']\n",
        "state5_data=electricity[electricity['State']=='Tripura']\n"
      ],
      "metadata": {
        "id": "WwfgKqKfaUUI"
      },
      "execution_count": null,
      "outputs": []
    },
    {
      "cell_type": "code",
      "source": [
        "#line chart\n",
        "\n",
        "fig,axes =plt.subplots(2)\n",
        "axes[0].plot(state1_data['Date'],state1_data['Consumption'],marker='*',color='red')\n",
        "axes[1].plot(state1_data['Date'],state1_data['Consumption'],marker='^',color='green')\n"
      ],
      "metadata": {
        "colab": {
          "base_uri": "https://localhost:8080/",
          "height": 447
        },
        "id": "mydanlsyagNT",
        "outputId": "ab7bce07-1b3f-48d7-8c26-da46e46dfd13"
      },
      "execution_count": null,
      "outputs": [
        {
          "output_type": "execute_result",
          "data": {
            "text/plain": [
              "[<matplotlib.lines.Line2D at 0x7f121b4a9f60>]"
            ]
          },
          "metadata": {},
          "execution_count": 17
        },
        {
          "output_type": "display_data",
          "data": {
            "text/plain": [
              "<Figure size 640x480 with 2 Axes>"
            ],
            "image/png": "[encoded data removed]"
          },
          "metadata": {}
        }
      ]
    },
    {
      "cell_type": "code",
      "source": [
        "#pie chart\n",
        "fig2,axes2=plt.subplots(2)\n",
        "state1='UP'\n",
        "state2='Kerala'\n",
        "state3='Mizoram'\n",
        "state4='Delhi'\n",
        "\n",
        "labels=[state1,state2]\n",
        "state1_total=electricity[electricity['State']==state1]['Consumption'].sum()\n",
        "state2_total=electricity[electricity['State']==state2]['Consumption'].sum()\n",
        "\n",
        "#energy should be a list of numerical values\n",
        "energy=[state1_total,state2_total]\n",
        "axes2[0].pie(energy,labels=labels,autopct='%1.1f%%')\n"
      ],
      "metadata": {
        "colab": {
          "base_uri": "https://localhost:8080/",
          "height": 534
        },
        "id": "EZwLzlz2arXo",
        "outputId": "80f9c9ec-583c-4ae7-dbb6-26980b67b19d"
      },
      "execution_count": null,
      "outputs": [
        {
          "output_type": "execute_result",
          "data": {
            "text/plain": [
              "([<matplotlib.patches.Wedge at 0x7f121920bc70>,\n",
              "  <matplotlib.patches.Wedge at 0x7f12193d2e60>],\n",
              " [Text(0.24494480671063937, 1.0723814814073804, 'UP'),\n",
              "  Text(-0.2449448067106395, -1.0723814814073804, 'Kerala')],\n",
              " [Text(0.13360625820580327, 0.5849353534949346, '42.9%'),\n",
              "  Text(-0.13360625820580335, -0.5849353534949346, '57.1%')])"
            ]
          },
          "metadata": {},
          "execution_count": 18
        },
        {
          "output_type": "display_data",
          "data": {
            "text/plain": [
              "<Figure size 640x480 with 2 Axes>"
            ],
            "image/png": "[encoded data removed]"
          },
          "metadata": {}
        }
      ]
    },
    {
      "cell_type": "code",
      "source": [
        "#bar start\n",
        "fig1,axes1 = plt.subplots(2)\n",
        "axes1[0].bar(state4_data['Date'],state4_data['Consumption'],color='yellow')\n",
        "axes1[1].bar(state5_data['Date'],state5_data['Consumption'],color='pink')"
      ],
      "metadata": {
        "colab": {
          "base_uri": "https://localhost:8080/",
          "height": 447
        },
        "id": "hazqa5g-a-Ph",
        "outputId": "e179e36d-994b-4c4c-9660-155fe783c83d"
      },
      "execution_count": null,
      "outputs": [
        {
          "output_type": "execute_result",
          "data": {
            "text/plain": [
              "<BarContainer object of 6 artists>"
            ]
          },
          "metadata": {},
          "execution_count": 19
        },
        {
          "output_type": "display_data",
          "data": {
            "text/plain": [
              "<Figure size 640x480 with 2 Axes>"
            ],
            "image/png": "[encoded data removed]"
          },
          "metadata": {}
        }
      ]
    },
    {
      "cell_type": "code",
      "source": [],
      "metadata": {
        "id": "mxdsTxq0SFMz"
      },
      "execution_count": null,
      "outputs": []
    },
    {
      "cell_type": "code",
      "source": [],
      "metadata": {
        "id": "QeSUzQC7DqTj"
      },
      "execution_count": null,
      "outputs": []
    },
    {
      "cell_type": "code",
      "source": [],
      "metadata": {
        "id": "9V7HjJV7dyYd"
      },
      "execution_count": null,
      "outputs": []
    },
    {
      "cell_type": "code",
      "source": [],
      "metadata": {
        "id": "LXquQfltd-1u"
      },
      "execution_count": null,
      "outputs": []
    },
    {
      "cell_type": "code",
      "source": [],
      "metadata": {
        "id": "A7vEOxZ2eFgX"
      },
      "execution_count": null,
      "outputs": []
    },
    {
      "cell_type": "code",
      "source": [],
      "metadata": {
        "id": "Qhk7EcmzeTEs"
      },
      "execution_count": null,
      "outputs": []
    },
    {
      "cell_type": "code",
      "source": [],
      "metadata": {
        "id": "U0hUH6YMeaKv"
      },
      "execution_count": null,
      "outputs": []
    },
    {
      "cell_type": "code",
      "source": [],
      "metadata": {
        "id": "VwNpKZlEenvA"
      },
      "execution_count": null,
      "outputs": []
    },
    {
      "cell_type": "code",
      "source": [],
      "metadata": {
        "id": "ZidqmwcWenWk"
      },
      "execution_count": null,
      "outputs": []
    },
    {
      "cell_type": "code",
      "source": [],
      "metadata": {
        "id": "ij7IQXIEfVna"
      },
      "execution_count": null,
      "outputs": []
    },
    {
      "cell_type": "code",
      "source": [],
      "metadata": {
        "id": "xCoR8bbgfabL"
      },
      "execution_count": null,
      "outputs": []
    },
    {
      "cell_type": "code",
      "source": [],
      "metadata": {
        "id": "48-_La46fghJ"
      },
      "execution_count": null,
      "outputs": []
    },
    {
      "cell_type": "code",
      "source": [],
      "metadata": {
        "id": "O1igaQNjflgy"
      },
      "execution_count": null,
      "outputs": []
    },
    {
      "cell_type": "code",
      "source": [],
      "metadata": {
        "id": "2_oJSvO9f6Tx"
      },
      "execution_count": null,
      "outputs": []
    },
    {
      "cell_type": "code",
      "source": [],
      "metadata": {
        "id": "NsO2s57Kf528"
      },
      "execution_count": null,
      "outputs": []
    },
    {
      "cell_type": "code",
      "source": [],
      "metadata": {
        "id": "kLdy83-NgFMO"
      },
      "execution_count": null,
      "outputs": []
    },
    {
      "cell_type": "code",
      "source": [],
      "metadata": {
        "id": "4TD4kWO4gMkd"
      },
      "execution_count": null,
      "outputs": []
    },
    {
      "cell_type": "code",
      "source": [],
      "metadata": {
        "id": "FgGf0A4vgTA7"
      },
      "execution_count": null,
      "outputs": []
    },
    {
      "cell_type": "code",
      "source": [],
      "metadata": {
        "id": "ZnTicxvdgTT4"
      },
      "execution_count": null,
      "outputs": []
    },
    {
      "cell_type": "code",
      "source": [],
      "metadata": {
        "id": "fdXSOA2Agjut"
      },
      "execution_count": null,
      "outputs": []
    },
    {
      "cell_type": "code",
      "source": [],
      "metadata": {
        "id": "bcSTv2Da5TRF"
      },
      "execution_count": null,
      "outputs": []
    },
    {
      "cell_type": "code",
      "source": [],
      "metadata": {
        "id": "AQJRJBIF_OnW"
      },
      "execution_count": null,
      "outputs": []
    },
    {
      "cell_type": "code",
      "source": [],
      "metadata": {
        "id": "Lh8heVrFUPt3"
      },
      "execution_count": null,
      "outputs": []
    }
  ]
}